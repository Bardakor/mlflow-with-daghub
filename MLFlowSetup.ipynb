{
 "cells": [
  {
   "cell_type": "markdown",
   "id": "4888d0d2",
   "metadata": {},
   "source": [
    "# MLflow Example: Tracking Two Model Training Runs"
   ]
  },
  {
   "cell_type": "code",
   "execution_count": 11,
   "id": "16184be1",
   "metadata": {},
   "outputs": [],
   "source": [
    "# === Model Training and Experimentation ===\n",
    "\n",
    "# Import necessary libraries\n",
    "from sklearn.ensemble import RandomForestClassifier\n",
    "from sklearn.model_selection import train_test_split\n",
    "from sklearn.metrics import accuracy_score\n",
    "from sklearn.datasets import load_digits\n"
   ]
  },
  {
   "cell_type": "code",
   "execution_count": 12,
   "id": "6ee458ef",
   "metadata": {},
   "outputs": [],
   "source": [
    "\n",
    "# Load dataset\n",
    "data = load_digits()\n",
    "X_train, X_test, y_train, y_test = train_test_split(data.data, data.target, test_size=0.2, random_state=42)\n",
    "\n",
    "# Define a function to train a model and return its accuracy\n",
    "def train_model(n_estimators, max_depth):\n",
    "    # Train a RandomForestClassifier\n",
    "    model = RandomForestClassifier(n_estimators=n_estimators, max_depth=max_depth, random_state=42)\n",
    "    model.fit(X_train, y_train)\n",
    "\n",
    "    # Make predictions\n",
    "    predictions = model.predict(X_test)\n",
    "    accuracy = accuracy_score(y_test, predictions)\n",
    "\n",
    "    print(f\"Model with n_estimators={n_estimators}, max_depth={max_depth} achieved accuracy={accuracy:.4f}\")\n",
    "    return model, accuracy"
   ]
  },
  {
   "cell_type": "code",
   "execution_count": 13,
   "id": "81669da5",
   "metadata": {},
   "outputs": [
    {
     "name": "stdout",
     "output_type": "stream",
     "text": [
      "Training Model 1...\n",
      "Model with n_estimators=20, max_depth=5 achieved accuracy=0.9389\n"
     ]
    }
   ],
   "source": [
    "\n",
    "# Train models with different hyperparameter configurations\n",
    "print(\"Training Model 1...\")\n",
    "model_1, acc_1 = train_model(n_estimators=20, max_depth=5)"
   ]
  },
  {
   "cell_type": "code",
   "execution_count": 14,
   "id": "94f0f7a1",
   "metadata": {},
   "outputs": [
    {
     "name": "stdout",
     "output_type": "stream",
     "text": [
      "\n",
      "Training Model 2...\n",
      "Model with n_estimators=100, max_depth=10 achieved accuracy=0.9722\n"
     ]
    }
   ],
   "source": [
    "print(\"\\nTraining Model 2...\")\n",
    "model_2, acc_2 = train_model(n_estimators=100, max_depth=10)\n"
   ]
  },
  {
   "cell_type": "markdown",
   "id": "ab64aace",
   "metadata": {},
   "source": [
    "Now adding MLFlow"
   ]
  },
  {
   "cell_type": "code",
   "execution_count": 15,
   "id": "f2ddb7ef",
   "metadata": {},
   "outputs": [],
   "source": [
    "import mlflow\n",
    "import mlflow.sklearn\n",
    "from sklearn.ensemble import RandomForestClassifier\n",
    "from sklearn.model_selection import train_test_split\n",
    "from sklearn.metrics import accuracy_score\n",
    "from sklearn.datasets import load_digits"
   ]
  },
  {
   "cell_type": "code",
   "execution_count": 16,
   "id": "3f59d2e1",
   "metadata": {},
   "outputs": [
    {
     "data": {
      "text/html": [
       "<pre style=\"white-space:pre;overflow-x:auto;line-height:normal;font-family:Menlo,'DejaVu Sans Mono',consolas,'Courier New',monospace\">Initialized MLflow to track repo <span style=\"color: #008000; text-decoration-color: #008000\">\"Bardakor/mlflow-with-daghub\"</span>\n",
       "</pre>\n"
      ],
      "text/plain": [
       "Initialized MLflow to track repo \u001b[32m\"Bardakor/mlflow-with-daghub\"\u001b[0m\n"
      ]
     },
     "metadata": {},
     "output_type": "display_data"
    },
    {
     "data": {
      "text/html": [
       "<pre style=\"white-space:pre;overflow-x:auto;line-height:normal;font-family:Menlo,'DejaVu Sans Mono',consolas,'Courier New',monospace\">Repository Bardakor/mlflow-with-daghub initialized!\n",
       "</pre>\n"
      ],
      "text/plain": [
       "Repository Bardakor/mlflow-with-daghub initialized!\n"
      ]
     },
     "metadata": {},
     "output_type": "display_data"
    }
   ],
   "source": [
    "# get this code from dagshub\n",
    "import dagshub\n",
    "dagshub.init(repo_owner='Bardakor', repo_name='mlflow-with-daghub', mlflow=True)"
   ]
  },
  {
   "cell_type": "code",
   "execution_count": 17,
   "id": "edff98f2",
   "metadata": {},
   "outputs": [],
   "source": [
    "data = load_digits()\n",
    "X_train, X_test, y_train, y_test = train_test_split(data.data, data.target, test_size=0.2, random_state=42)"
   ]
  },
  {
   "cell_type": "code",
   "execution_count": 18,
   "id": "ce2ab4eb",
   "metadata": {},
   "outputs": [
    {
     "data": {
      "text/plain": [
       "<Experiment: artifact_location='mlflow-artifacts:/c25339129e814bb6abcea95b7621542a', creation_time=1751201371903, experiment_id='1', last_update_time=1751201371903, lifecycle_stage='active', name='RandomForestExperiment_2', tags={}>"
      ]
     },
     "execution_count": 18,
     "metadata": {},
     "output_type": "execute_result"
    }
   ],
   "source": [
    "# Set MLflow experiment name. This will get created if it doesn't exist\n",
    "experiment_name = \"RandomForestExperiment_2\"\n",
    "mlflow.set_experiment(experiment_name)\n"
   ]
  },
  {
   "cell_type": "code",
   "execution_count": 19,
   "id": "d09752f1",
   "metadata": {},
   "outputs": [],
   "source": [
    "# In cell 9, replace the train_and_log_model function with:\n",
    "def train_and_log_model(n_estimators, max_depth):\n",
    "    with mlflow.start_run():\n",
    "        # Train a RandomForestClassifier\n",
    "        model = RandomForestClassifier(n_estimators=n_estimators, max_depth=max_depth, random_state=42)\n",
    "        model.fit(X_train, y_train)\n",
    "\n",
    "        # Make predictions\n",
    "        predictions = model.predict(X_test)\n",
    "        accuracy = accuracy_score(y_test, predictions)\n",
    "\n",
    "        # Log parameters and metrics (skip model logging due to DagHub compatibility)\n",
    "        mlflow.log_param(\"n_estimators\", n_estimators)\n",
    "        mlflow.log_param(\"max_depth\", max_depth)\n",
    "        mlflow.log_metric(\"accuracy\", accuracy)\n",
    "        \n",
    "        # Save model locally for Docker\n",
    "        import os\n",
    "        import joblib\n",
    "        os.makedirs(\"models\", exist_ok=True)\n",
    "        joblib.dump(model, f\"models/model_estimators_{n_estimators}_depth_{max_depth}.pkl\")\n",
    "\n",
    "        print(f\"Logged RandomForest model with n_estimators={n_estimators}, max_depth={max_depth}, accuracy={accuracy:.4f}\")\n",
    "        return model, accuracy"
   ]
  },
  {
   "cell_type": "code",
   "execution_count": 20,
   "id": "6ea78600",
   "metadata": {},
   "outputs": [
    {
     "name": "stdout",
     "output_type": "stream",
     "text": [
      "Training and Logging Model 1...\n",
      "Logged RandomForest model with n_estimators=20, max_depth=5, accuracy=0.9389\n",
      "🏃 View run thoughtful-ram-181 at: https://dagshub.com/Bardakor/mlflow-with-daghub.mlflow/#/experiments/1/runs/deb5fd8a27474b979b375fe27135aeaf\n",
      "🧪 View experiment at: https://dagshub.com/Bardakor/mlflow-with-daghub.mlflow/#/experiments/1\n"
     ]
    },
    {
     "data": {
      "text/plain": [
       "(RandomForestClassifier(max_depth=5, n_estimators=20, random_state=42),\n",
       " 0.9388888888888889)"
      ]
     },
     "execution_count": 20,
     "metadata": {},
     "output_type": "execute_result"
    }
   ],
   "source": [
    "# Train and log Model 1\n",
    "print(\"Training and Logging Model 1...\")\n",
    "train_and_log_model(n_estimators=20, max_depth=5)"
   ]
  },
  {
   "cell_type": "code",
   "execution_count": 21,
   "id": "6af0267f",
   "metadata": {},
   "outputs": [
    {
     "name": "stdout",
     "output_type": "stream",
     "text": [
      "\n",
      "Training and Logging Model 2...\n",
      "Logged RandomForest model with n_estimators=100, max_depth=10, accuracy=0.9722\n",
      "🏃 View run exultant-fly-426 at: https://dagshub.com/Bardakor/mlflow-with-daghub.mlflow/#/experiments/1/runs/2f585556cf30435cb095c9dcacbdbbff\n",
      "🧪 View experiment at: https://dagshub.com/Bardakor/mlflow-with-daghub.mlflow/#/experiments/1\n"
     ]
    },
    {
     "data": {
      "text/plain": [
       "(RandomForestClassifier(max_depth=10, random_state=42), 0.9722222222222222)"
      ]
     },
     "execution_count": 21,
     "metadata": {},
     "output_type": "execute_result"
    }
   ],
   "source": [
    "# Train and log Model 2\n",
    "print(\"\\nTraining and Logging Model 2...\")\n",
    "train_and_log_model(n_estimators=100, max_depth=10)"
   ]
  },
  {
   "cell_type": "code",
   "execution_count": 22,
   "id": "69f13b96",
   "metadata": {},
   "outputs": [
    {
     "name": "stdout",
     "output_type": "stream",
     "text": [
      "\n",
      "To view the results, run the following command in your terminal:\n",
      "mlflow ui\n",
      "Then navigate to http://127.0.0.1:5000 to explore the experiment results.\n"
     ]
    }
   ],
   "source": [
    "# Instructions to visualize results\n",
    "print(\"\\nTo view the results, run the following command in your terminal:\")\n",
    "print(\"mlflow ui\")\n",
    "print(\"Then navigate to http://127.0.0.1:5000 to explore the experiment results.\")"
   ]
  },
  {
   "cell_type": "code",
   "execution_count": 23,
   "id": "87937acf",
   "metadata": {},
   "outputs": [
    {
     "name": "stdout",
     "output_type": "stream",
     "text": [
      "Best model saved for Docker deployment!\n"
     ]
    }
   ],
   "source": [
    "# New cell - Save best model for Docker\n",
    "import joblib\n",
    "import os\n",
    "\n",
    "# Determine which model performed better and save as best_model.pkl\n",
    "# You'll need to capture the models and accuracies from the previous cells\n",
    "os.makedirs(\"models\", exist_ok=True)\n",
    "\n",
    "# Assuming model from cell with n_estimators=100, max_depth=10 performs better\n",
    "# Load the better performing model and save as best_model.pkl\n",
    "best_model = RandomForestClassifier(n_estimators=100, max_depth=10, random_state=42)\n",
    "best_model.fit(X_train, y_train)\n",
    "joblib.dump(best_model, \"models/best_model.pkl\")\n",
    "\n",
    "print(\"Best model saved for Docker deployment!\")"
   ]
  }
 ],
 "metadata": {
  "kernelspec": {
   "display_name": ".venv",
   "language": "python",
   "name": "python3"
  },
  "language_info": {
   "codemirror_mode": {
    "name": "ipython",
    "version": 3
   },
   "file_extension": ".py",
   "mimetype": "text/x-python",
   "name": "python",
   "nbconvert_exporter": "python",
   "pygments_lexer": "ipython3",
   "version": "3.13.5"
  }
 },
 "nbformat": 4,
 "nbformat_minor": 5
}
